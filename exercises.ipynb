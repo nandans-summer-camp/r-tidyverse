{
 "cells": [
  {
   "cell_type": "code",
   "execution_count": null,
   "metadata": {},
   "outputs": [],
   "source": [
    "library(tidyverse)"
   ]
  },
  {
   "cell_type": "code",
   "execution_count": null,
   "metadata": {},
   "outputs": [],
   "source": [
    "# 1)\n",
    "# use the readr libraries read_csv method to \n",
    "# read the file '2016_renda.csv'. Take a look at the documentation\n",
    "# for the readr library. What warnings does it give you? "
   ]
  },
  {
   "cell_type": "code",
   "execution_count": null,
   "metadata": {},
   "outputs": [],
   "source": [
    "# Note the data type that read_csv returns\n",
    "# (you can use \"class\" like always!)\n",
    "# What is it? "
   ]
  },
  {
   "cell_type": "code",
   "execution_count": null,
   "metadata": {},
   "outputs": [],
   "source": [
    "# A tibble is the Tidyverses version of a \n",
    "# dataframe. It has everything a dataframe has,\n",
    "# but has some key differences: \n",
    "\n",
    "# - Tibbles do not print all the rows!\n",
    "# - Tibbles print out the type of each column.\n",
    "# - Tibbles do not coerce types (dataframes will often coerce strings into factors, which may be a headache)\n",
    "# - Subsetting a tibble (with []) will always return a tibble. Never a vector."
   ]
  },
  {
   "cell_type": "code",
   "execution_count": null,
   "metadata": {},
   "outputs": [],
   "source": [
    "# 2)\n",
    "# Two of the columns, Nom_Districte and Nom_Barri were parsed \n",
    "# as \"character\" columns. Let's change them into \"factor\" columns\n",
    "# by using the parse_factor function from the readr library. \n",
    "# Do you remember a function from another tidyverse library\n",
    "# that can be used to change a column? "
   ]
  },
  {
   "cell_type": "code",
   "execution_count": null,
   "metadata": {},
   "outputs": [],
   "source": [
    "# 3)\n",
    "# You learned to work with the dplyr library to manipulate\n",
    "# dataframes. Let's put some of that knowledge to work!\n",
    "# Get the Barris with the top 5 mean Import_Euros per Barri. "
   ]
  },
  {
   "cell_type": "code",
   "execution_count": null,
   "metadata": {},
   "outputs": [],
   "source": [
    "# 4)\n",
    "# Summarize is how we \"aggregate\" or \"reduce\" a column of each\n",
    "# \"mini-dataframe\" in each group down to a single value. \n",
    "\n",
    "# Let's create a custom function that you can use with summarize().\n",
    "# This function should select the nth largest value in the given column/group\n",
    "# hint: the function should take a vector and return a scalar\n",
    "\n",
    "\n",
    "\n",
    "# Now use your function to get the 3rd highest Import_Euros per district. "
   ]
  },
  {
   "cell_type": "code",
   "execution_count": null,
   "metadata": {},
   "outputs": [],
   "source": [
    "# 5)\n",
    "# Now use your function to get a dataframe with only the\n",
    "# top-3 highest-earning census tract per district. "
   ]
  },
  {
   "cell_type": "code",
   "execution_count": null,
   "metadata": {},
   "outputs": [],
   "source": [
    "# 6)\n",
    "# Note that you probably ended up with a \"grouped_df\" object\n",
    "# instead of a normal tibble. You can get a normal tibble back\n",
    "# by calling ungroup() on the grouped_df. But before you do,\n",
    "# let's see the implication of the grouped_df (which looks the same\n",
    "# when printed out!). \n",
    "\n",
    "# Try adding a column with the difference between the richest tract\n",
    "# and the 3rd richest tract in each Districte, so that you have a new \n",
    "# dataframe of the same size, but with an extra column. "
   ]
  },
  {
   "cell_type": "code",
   "execution_count": null,
   "metadata": {},
   "outputs": [],
   "source": [
    "# 7)\n",
    "# Let's do some plotting with the ggplot2 skills we learned!\n",
    "# Plot a kernel density function of the Import_Euros on the \n",
    "# whole dataset\n"
   ]
  },
  {
   "cell_type": "code",
   "execution_count": null,
   "metadata": {},
   "outputs": [],
   "source": [
    "# 8)\n",
    "# Now lets plot the kernel density of the Import_Euros\n",
    "# per Districte! \n",
    "\n",
    "# HINT: Use the following to change the size of your plot.\n",
    "# Pick a size that's big enough to help you see what's happening:\n",
    "# options(repr.plot.width=2, repr.plot.height=2)"
   ]
  },
  {
   "cell_type": "code",
   "execution_count": null,
   "metadata": {},
   "outputs": [],
   "source": [
    "# 9)\n",
    "# Hrm, a lot of those densities look like they have\n",
    "# a lot of mass in either their left or right tail, \n",
    "# almost a second mode. \n",
    "#\n",
    "# Instead of comparing the minimum and maximum income\n",
    "# districts to get a measure of inequality, let's compare\n",
    "# the size of the interquartile range of each Districte. A small\n",
    "# interquartile range will indicate a large swathe of homogenous\n",
    "# incomes. The interquartile range is from the .25 quantile to the \n",
    "# .75 quantile of an ordered set of random variables. You can use \n",
    "# the quantile function to get it.\n",
    "\n",
    "# Plot a horizontal bar chart with the size of the interquartile ranges.\n",
    "# Order the bars in descending order (HINT: use \"reorder\")."
   ]
  },
  {
   "cell_type": "code",
   "execution_count": null,
   "metadata": {},
   "outputs": [],
   "source": [
    "# 10)\n",
    "# Now compute the \"inequality\" per district as the difference between the min and max\n",
    "# Import_Euros within the Districte. Create a dataframe (tibble) with both measures\n",
    "# and compare them. Any differences? "
   ]
  }
 ],
 "metadata": {
  "kernelspec": {
   "display_name": "R",
   "language": "R",
   "name": "ir"
  },
  "language_info": {
   "codemirror_mode": "r",
   "file_extension": ".r",
   "mimetype": "text/x-r-source",
   "name": "R",
   "pygments_lexer": "r",
   "version": "3.6.3"
  }
 },
 "nbformat": 4,
 "nbformat_minor": 4
}
